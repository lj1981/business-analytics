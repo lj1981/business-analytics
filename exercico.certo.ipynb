{
  "nbformat": 4,
  "nbformat_minor": 0,
  "metadata": {
    "colab": {
      "name": "Untitled14.ipynb",
      "provenance": [],
      "collapsed_sections": []
    },
    "kernelspec": {
      "name": "python3",
      "display_name": "Python 3"
    },
    "language_info": {
      "name": "python"
    }
  },
  "cells": [
    {
      "cell_type": "code",
      "source": [
        "%%writefile carros.csv\n",
        "id,valor_venda,valor_manutencao,portas,pessoas,porta_malas\n",
        "1,vhigh,med,2,2,small\n",
        "2,med,vhigh,2,2,small\n",
        "3,low,vhigh,2,2,small\n",
        "4,low,high,2,2,small\n",
        "5,low,high,2,2,small\n",
        "6,low,high,4,4,big\n",
        "7,low,high,4,4,big\n",
        "8,low,med,2,2,small\n",
        "9,low,med,2,2,small\n",
        "10,low,med,2,2,small\n",
        "11,low,med,4,4,big\n",
        "12,low,low,2,2,small\n",
        "13,low,low,4,4,small\n",
        "14,low,low,4,4,med"
      ],
      "metadata": {
        "colab": {
          "base_uri": "https://localhost:8080/"
        },
        "id": "aiO-E_Jhav2f",
        "outputId": "c4eee904-9ab0-459f-d035-033f076d42e0"
      },
      "execution_count": 1,
      "outputs": [
        {
          "output_type": "stream",
          "name": "stdout",
          "text": [
            "Writing carros.csv\n"
          ]
        }
      ]
    },
    {
      "cell_type": "code",
      "source": [
        "%%writefile musica.txt\n",
        "Roda Viva\n",
        "Chico Buarque\n",
        "Tem dias que a gente se sente\n",
        "Como quem partiu ou morreu\n",
        "A gente estancou de repente\n",
        "Ou foi o mundo então que cresceu\n",
        "A gente quer ter voz ativa\n",
        "No nosso destino mandar\n",
        "Mas eis que chega a roda viva\n",
        "E carrega o destino pra lá\n",
        "Roda mundo, roda-gigante\n",
        "Roda moinho, roda pião\n",
        "O tempo rodou num instante\n",
        "Nas voltas do meu coração\n",
        "A gente vai contra a corrente\n",
        "Até não poder resistir\n",
        "Na volta do barco é que sente\n",
        "O quanto deixou de cumprir\n",
        "Faz tempo que a gente cultiva\n",
        "A mais linda roseira que há\n",
        "Mas eis que chega a roda viva\n",
        "E carrega a roseira pra lá\n",
        "Roda mundo, roda-gigante\n",
        "Roda moinho, roda pião"
      ],
      "metadata": {
        "colab": {
          "base_uri": "https://localhost:8080/"
        },
        "id": "T_-z-iULbFBA",
        "outputId": "4630594f-63cb-43e6-bda0-52db5c879e96"
      },
      "execution_count": 2,
      "outputs": [
        {
          "output_type": "stream",
          "name": "stdout",
          "text": [
            "Writing musica.txt\n"
          ]
        }
      ]
    },
    {
      "cell_type": "code",
      "source": [
        "def extrai_coluna_csv(nome_arquivo: str, indice_coluna: int, tipo_dado):\n",
        "    print(isinstance(tipo_dado, int))\n",
        "    coluna = []\n",
        "\n",
        "    \n",
        "    with open(file=nome_arquivo, mode='r', encoding='utf8') as fp:\n",
        "        linha=linha = fp.readline()\n",
        "        while len(linha):\n",
        "            \n",
        "            linha = fp.readline()\n",
        "            \n",
        "            linha_separada = linha.split(sep=',')\n",
        "            \n",
        "            if indice_coluna >= len(linha_separada):\n",
        "                break\n",
        "            \n",
        "            linha = linha_separada[indice_coluna]\n",
        "            coluna.append(linha)\n",
        "            \n",
        "            if isinstance(tipo_dado, str):\n",
        "                coluna.append(linha)\n",
        "            elif isinstance(tipo_dado, int):\n",
        "                coluna.append(linha)\n",
        "            else:\n",
        "                print('Error')\n",
        "\n",
        "    return coluna\n",
        "\n",
        "\n",
        "\n",
        "valor_venda = extrai_coluna_csv(nome_arquivo='./carros.csv', indice_coluna=1, tipo_dado=\"\")\n",
        "print(valor_venda)  \n",
        "\n",
        "\n",
        "\n"
      ],
      "metadata": {
        "colab": {
          "base_uri": "https://localhost:8080/"
        },
        "id": "FNgOURgpbJFn",
        "outputId": "b44d9c1f-5575-45b9-8e4e-635d61ff1378"
      },
      "execution_count": 20,
      "outputs": [
        {
          "output_type": "stream",
          "name": "stdout",
          "text": [
            "False\n",
            "['vhigh', 'vhigh', 'med', 'med', 'low', 'low', 'low', 'low', 'low', 'low', 'low', 'low', 'low', 'low', 'low', 'low', 'low', 'low', 'low', 'low', 'low', 'low', 'low', 'low', 'low', 'low', 'low', 'low']\n"
          ]
        }
      ]
    },
    {
      "cell_type": "code",
      "source": [
        "def le_linha(nome_arquivo, num_linha):\n",
        "    with open(nome_arquivo, mode=\"r\", encoding=\"utf8\") as file:\n",
        "        for i, linha in enumerate(file, start=1):\n",
        "            if i == num_linha:\n",
        "                return linha.split()\n",
        "\n",
        "    \n",
        "    return []\n",
        "\n",
        "\n",
        "print(le_linha(\"musica.txt\", 21))\n",
        "\n",
        "\n"
      ],
      "metadata": {
        "colab": {
          "base_uri": "https://localhost:8080/"
        },
        "id": "fewfi3f3kKEY",
        "outputId": "c1b242dc-e45f-4ff4-c3bb-aa7242a0e02a"
      },
      "execution_count": 19,
      "outputs": [
        {
          "output_type": "stream",
          "name": "stdout",
          "text": [
            "['Mas', 'eis', 'que', 'chega', 'a', 'roda', 'viva']\n"
          ]
        }
      ]
    }
  ]
}