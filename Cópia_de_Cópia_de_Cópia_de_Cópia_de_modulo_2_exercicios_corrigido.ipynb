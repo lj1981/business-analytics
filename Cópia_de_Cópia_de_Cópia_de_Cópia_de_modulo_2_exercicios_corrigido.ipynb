{
  "nbformat": 4,
  "nbformat_minor": 0,
  "metadata": {
    "colab": {
      "name": "Cópia de Cópia de Cópia de Cópia de modulo_2_exercicios.ipynb",
      "provenance": [],
      "collapsed_sections": []
    },
    "kernelspec": {
      "name": "python3",
      "display_name": "Python 3"
    }
  },
  "cells": [
    {
      "cell_type": "markdown",
      "metadata": {
        "id": "KJqp9AANOCtf"
      },
      "source": [
        "<img src=\"https://raw.githubusercontent.com/andre-marcos-perez/ebac-course-utils/main/media/logo/newebac_logo_black_half.png\" alt=\"ebac-logo\">\n",
        "\n",
        "---\n",
        "\n",
        "# **Módulo 02** | Python: Estruturas de Dados\n",
        "Caderno de **Exercícios**<br> \n",
        "Professor [André Perez](https://www.linkedin.com/in/andremarcosperez/)\n",
        "\n",
        "---"
      ]
    },
    {
      "cell_type": "markdown",
      "metadata": {
        "id": "d9jDtUbDOE1-"
      },
      "source": [
        "# **Tópicos**\n",
        "\n",
        "<ol type=\"1\">\n",
        "  <li>Listas;</li>\n",
        "  <li>Conjuntos;</li>\n",
        "  <li>Dicionários.</li>\n",
        "</ol>"
      ]
    },
    {
      "cell_type": "markdown",
      "metadata": {
        "id": "SmoHgt-lwkpD"
      },
      "source": [
        "---"
      ]
    },
    {
      "cell_type": "markdown",
      "metadata": {
        "id": "GABI6OW8OfQ2"
      },
      "source": [
        "# **Exercícios**"
      ]
    },
    {
      "cell_type": "markdown",
      "metadata": {
        "id": "muD1vxozykSC"
      },
      "source": [
        "## 1\\. Listas"
      ]
    },
    {
      "cell_type": "markdown",
      "metadata": {
        "id": "ahrFfCuBxJKs"
      },
      "source": [
        "Criei uma lista chamada `filmes` com o nome dos 10 primeiros filmes mais bem avaliados no site no [IMDB](https://www.imdb.com/chart/top/). Imprima o resultado."
      ]
    },
    {
      "cell_type": "code",
      "metadata": {
        "id": "OgL6Hv3bzOHI",
        "colab": {
          "base_uri": "https://localhost:8080/"
        },
        "outputId": "ff9ab0d3-f58e-4bb8-db7c-804c770b8e9f"
      },
      "source": [
        "\n",
        "\n",
        "\n",
        "Brasil = ( 'Os Condenados de Shawshank 1994,  O Padrinho  1972,  O Padrinho: Parte II  1974 ,  O Cavaleiro das Trevas 2008, Doze Homens em Fúria 1957, A Lista de Schindler 1993, O Senhor dos Anéis - O Regresso do Re 2003, Pulp Fiction 1994, O Bom, o Mau e o Vilão 1966, O Senhor dos Anéis - A Irmandade do Anel 2001')\n",
        "\n",
        "print(Brasil)\n",
        "print(type(Brasil))\n",
        "\n"
      ],
      "execution_count": null,
      "outputs": [
        {
          "output_type": "stream",
          "name": "stdout",
          "text": [
            "Os Condenados de Shawshank 1994,  O Padrinho  1972,  O Padrinho: Parte II  1974 ,  O Cavaleiro das Trevas 2008, Doze Homens em Fúria 1957, A Lista de Schindler 1993, O Senhor dos Anéis - O Regresso do Re 2003, Pulp Fiction 1994, O Bom, o Mau e o Vilão 1966, O Senhor dos Anéis - A Irmandade do Anel 2001\n",
            "<class 'str'>\n"
          ]
        }
      ]
    },
    {
      "cell_type": "markdown",
      "metadata": {
        "id": "KI9zQRT2xa7m"
      },
      "source": [
        "Simule a movimentação do *ranking*. Utilize os métodos `insert` e `pop` para trocar a posição do primeiro e do segundo filme da lista. Imprima o resultado.\n",
        "\n"
      ]
    },
    {
      "cell_type": "code",
      "metadata": {
        "id": "zX3mA3_GzrXH",
        "colab": {
          "base_uri": "https://localhost:8080/"
        },
        "outputId": "d85a239f-f579-41d8-db92-b09869eea36a"
      },
      "source": [
        "Brasil = [ 'Os Condenados de Shawshank 1994,  O Padrinho  1972,  O Padrinho: Parte II  1974 ,  O Cavaleiro das Trevas 2008, Doze Homens em Fúria 1957, A Lista de Schindler 1993, O Senhor dos Anéis - O Regresso do Re 2003, Pulp Fiction 1994, O Bom, o Mau e o Vilão 1966, O Senhor dos Anéis - A Irmandade do Anel 2001']\n",
        "\n",
        "\n",
        "Brasil.insert( 0 , \"O Padrinho  1972\")\n",
        "print(Brasil)\n",
        "\n",
        "\n",
        "\n"
      ],
      "execution_count": null,
      "outputs": [
        {
          "output_type": "stream",
          "name": "stdout",
          "text": [
            "['O Padrinho  1972', 'Os Condenados de Shawshank 1994,  O Padrinho  1972,  O Padrinho: Parte II  1974 ,  O Cavaleiro das Trevas 2008, Doze Homens em Fúria 1957, A Lista de Schindler 1993, O Senhor dos Anéis - O Regresso do Re 2003, Pulp Fiction 1994, O Bom, o Mau e o Vilão 1966, O Senhor dos Anéis - A Irmandade do Anel 2001']\n"
          ]
        }
      ]
    },
    {
      "cell_type": "code",
      "source": [
        "Brasil = [\"Os Condenados de Shawshank 1994,  O Padrinho  1972,  O Padrinho: Parte II  1974 ,  O Cavaleiro das Trevas 2008, Doze Homens em Fúria 1957, A Lista de Schindler 1993, O Senhor dos Anéis - O Regresso do Re 2003, Pulp Fiction 1994, O Bom, o Mau e o Vilão 1966, O Senhor dos Anéis - A Irmandade do Anel 2001\"]\n",
        "\n",
        "terceiro_juros = Brasil.pop(0)\n",
        "print(terceiro_juros)"
      ],
      "metadata": {
        "colab": {
          "base_uri": "https://localhost:8080/"
        },
        "id": "un2FYlH2fsP-",
        "outputId": "e76fc756-e9a5-40a9-8cca-e0e4eab471a6"
      },
      "execution_count": null,
      "outputs": [
        {
          "output_type": "stream",
          "name": "stdout",
          "text": [
            "Os Condenados de Shawshank 1994,  O Padrinho  1972,  O Padrinho: Parte II  1974 ,  O Cavaleiro das Trevas 2008, Doze Homens em Fúria 1957, A Lista de Schindler 1993, O Senhor dos Anéis - O Regresso do Re 2003, Pulp Fiction 1994, O Bom, o Mau e o Vilão 1966, O Senhor dos Anéis - A Irmandade do Anel 2001\n"
          ]
        }
      ]
    },
    {
      "cell_type": "markdown",
      "metadata": {
        "id": "zMN1Q3jdwoJm"
      },
      "source": [
        "---"
      ]
    },
    {
      "cell_type": "markdown",
      "metadata": {
        "id": "lxa5L6uF0ZJE"
      },
      "source": [
        "## 2\\. Conjuntos"
      ]
    },
    {
      "cell_type": "markdown",
      "metadata": {
        "id": "9JahS2Kj0d5u"
      },
      "source": [
        "Aconteceu um erro no seu *ranking*. Simule a duplicação dos três últimos filmes da lista. Imprima o resultado."
      ]
    },
    {
      "cell_type": "markdown",
      "metadata": {
        "id": "suxTfCJB6ZiX"
      },
      "source": [
        "Utiliza a conversão `set` e `list` para remover os valores duplicados. Imprima o resultado. "
      ]
    },
    {
      "cell_type": "code",
      "source": [
        "Brasil = {\"Os Condenados de Shawshank 1994\",\"O Padrinho  1972\",\"O Padrinho: Parte II  1974\" ,\"O Cavaleiro das Trevas 2008\", \"Doze Homens em Fúria 1957\",\" A Lista de Schindler 1993\",\" O Senhor dos Anéis - O Regresso do Re 2003\",\" Pulp Fiction 1994\",\" O Bom, o Mau e o Vilão 1966\",\" O Senhor dos Anéis - A Irmandade do Anel 2001\",\"Pulp Fiction 1994\", \"O Bom, o Mau e o Vilão 1966\",\" O Senhor dos Anéis - A Irmandade do Anel 2001\"}\n",
        "\n",
        "print(Brasil)\n",
        "print(len(Brasil))\n",
        "\n",
        "\n",
        "print(type(list(Brasil)))\n",
        "\n",
        "print(type(set((Brasil))))\n",
        "\n",
        "\n"
      ],
      "metadata": {
        "colab": {
          "base_uri": "https://localhost:8080/"
        },
        "id": "_W0c6TUkLmns",
        "outputId": "50d2aa0d-4d60-42e0-fe29-aa1a0e31c4fb"
      },
      "execution_count": null,
      "outputs": [
        {
          "output_type": "stream",
          "name": "stdout",
          "text": [
            "{' O Senhor dos Anéis - O Regresso do Re 2003', ' O Bom, o Mau e o Vilão 1966', 'O Cavaleiro das Trevas 2008', 'Os Condenados de Shawshank 1994', 'Pulp Fiction 1994', ' A Lista de Schindler 1993', 'Doze Homens em Fúria 1957', ' O Senhor dos Anéis - A Irmandade do Anel 2001', ' Pulp Fiction 1994', 'O Padrinho  1972', 'O Padrinho: Parte II  1974', 'O Bom, o Mau e o Vilão 1966'}\n",
            "12\n",
            "<class 'list'>\n",
            "<class 'set'>\n"
          ]
        }
      ]
    },
    {
      "cell_type": "code",
      "metadata": {
        "id": "ZvUGN-0n6joM",
        "colab": {
          "base_uri": "https://localhost:8080/"
        },
        "outputId": "255d4603-e146-43ff-fbb7-17cf207c7e49"
      },
      "source": [
        "set(Brasil)\n"
      ],
      "execution_count": null,
      "outputs": [
        {
          "output_type": "execute_result",
          "data": {
            "text/plain": [
              "{' A Lista de Schindler 1993',\n",
              " ' O Bom, o Mau e o Vilão 1966',\n",
              " ' O Senhor dos Anéis - A Irmandade do Anel 2001',\n",
              " ' O Senhor dos Anéis - O Regresso do Re 2003',\n",
              " ' Pulp Fiction 1994',\n",
              " 'Doze Homens em Fúria 1957',\n",
              " 'O Bom, o Mau e o Vilão 1966',\n",
              " 'O Cavaleiro das Trevas 2008',\n",
              " 'O Padrinho  1972',\n",
              " 'O Padrinho: Parte II  1974',\n",
              " 'Os Condenados de Shawshank 1994',\n",
              " 'Pulp Fiction 1994'}"
            ]
          },
          "metadata": {},
          "execution_count": 55
        }
      ]
    },
    {
      "cell_type": "markdown",
      "metadata": {
        "id": "ShkK35eQ6pAM"
      },
      "source": [
        "---"
      ]
    },
    {
      "cell_type": "markdown",
      "metadata": {
        "id": "EL_FzmxL6rTv"
      },
      "source": [
        "## 3\\. Dicionários"
      ]
    },
    {
      "cell_type": "markdown",
      "metadata": {
        "id": "i8l0gFqRCpfT"
      },
      "source": [
        "Repita os exercícios da parte 1 (listas). Os elementos da lista `filmes` devem ser dicionários no seguinte formato: `{'nome': <nome-do-filme>, 'ano': <ano do filme>}, 'sinopse': <sinopse do filme>}`. "
      ]
    },
    {
      "cell_type": "code",
      "source": [
        "Top_10 = [\n",
        "\n",
        "   {\"nome\": \"A Lista de Schindler\",\n",
        "\n",
        "    \"ano\": \"1993\",\n",
        "\n",
        "    \"sinopse\": \"O alemão Oskar Schindler viu na mão de obra judia uma solução barata e viável para lucrar com negócios durante a guerra. Com sua forte influência dentro do partido nazista, foi fácil conseguir as autorizações e abrir uma fábrica. O que poderia parecer uma atitude de um homem não muito bondoso, transformou-se em um dos maiores casos de amor à vida da História, pois este alemão abdicou de toda sua fortuna para salvar a vida de mais de mil judeus em plena luta contra o extermínio alemão..\"},\n",
        "\n",
        "   {\"nome\": \"O Bom, o Mau e o Vilão\",\n",
        "\n",
        "    \"ano\": \"1966\",\n",
        "\n",
        "    \"sinopse\": \"Durante a Guerra Civil Americana, um pistoleiro misterioso e dois estrangeiros decidem juntar suas forças para encontrar um tesouro escondido. Cada um dos homens conhece apenas uma parte da localização da fortuna, o que força essa parceria. O problema é que nenhum deles tem a intenção de dividir a riqueza..\"},\n",
        "\n",
        "   {\"nome\": \"O Senhor dos Anéis - A Irmandade do Anel\",\n",
        "\n",
        "    \"ano\": \"2001\",\n",
        "\n",
        "    \"sinopse\": \"Em uma terra fantástica e única, um hobbit recebe de presente de seu tio um anel mágico e maligno que precisa ser destruído antes que caia nas mãos do mal. Para isso, o hobbit Frodo tem um caminho árduo pela frente, onde encontra perigo, medo e seres bizarros. Ao seu lado para o cumprimento desta jornada, ele aos poucos pode contar com outros hobbits, um elfo, um anão, dois humanos e um mago, totalizando nove seres que formam a Sociedade do Anel.\"},\n",
        "\n",
        " {\"nome\": \"O Senhor dos Anéis - O Regresso do Rei\",\n",
        "\n",
        "    \"ano\": \"2001\",\n",
        "\n",
        "    \"sinopse\": \"O confronto final entre as forças do bem e do mal que lutam pelo controle do futuro da Terra Média se aproxima. Sauron planeja um grande ataque a Minas Tirith, capital de Gondor, o que faz com que Gandalf e Pippin partam para o local na intenção de ajudar a resistência. Um exército é reunido por Theoden em Rohan, em mais uma tentativa de deter as forças de Sauron. Enquanto isso, Frodo, Sam e Gollum seguem sua viagem rumo à Montanha da Perdição para destruir o anel.\"},\n",
        "\n",
        "   {\"nome\": \"Pulp Fiction\",\n",
        "\n",
        "    \"ano\": \"1994\",\n",
        "\n",
        "    \"sinopse\": \"Os caminhos de vários criminosos se cruzam nestas três histórias de Quentin Tarantino. Um pistoleiro se apaixona pela mulher de seu chefe, um boxeador não se sai bem em uma luta e um casal tenta executar um plano de roubo que foge do controle.\"},\n",
        "\n",
        "   {\"nome\": \"Doze Homens em Fúria\",\n",
        "\n",
        "    \"ano\": \"1957\",\n",
        "\n",
        "    \"sinopse\": \"Seguindo o encerramento do caso do julgamento do assassinato cometido por um adolescente, os membros do júri devem chegar a um consenso sobre qual será o veredito. Enquanto os 12 indivíduos estão fechados em uma sala para tomar uma decisão, onze deles votam pela condenação do réu, porém um deles acredita na inocência do jovem e tenta convencer os outros a mudarem seus votos, dando início a um conflito que ameaça inviabilizar o delicado processo que vai decidir o destino do acusado..\"},\n",
        "\n",
        " {\"nome\": \"O Cavaleiro das Trevas\",\n",
        "\n",
        "    \"ano\": \"2008\",\n",
        "\n",
        "    \"sinopse\": \"Com a ajuda de Jim Gordon e Harvey Dent, Batman tem mantido a ordem na cidade de Gotham. Mas um jovem e anárquico criminoso conhecido como Coringa ganha força e decide instaurar um verdadeiro caos na cidade. O justiceiro será testado psicologicamente e fisicamente como nunca fora antes em um confronto bastante pessoal. Cabe a Batman encontrar uma maneira de deter o sádico vilão antes que mais vidas sejam perdidas.\"},\n",
        "\n",
        "   {\"nome\": \"O Padrinho\",\n",
        "\n",
        "    \"ano\": \"1972\",\n",
        "\n",
        "    \"sinopse\": \"Uma família mafiosa luta para estabelecer sua supremacia nos Estados Unidos depois da Segunda Guerra Mundial. Uma tentativa de assassinato deixa o chefão Vito Corleone incapacitado e força os filhos Michael e Sonny a assumir os negócios.\"},\n",
        "\n",
        "   {\"nome\": \"O Padrinho: Parte II\",\n",
        "\n",
        "    \"ano\": \"1974\",\n",
        "\n",
        "    \"sinopse\": \"Após a máfia matar sua família, o jovem Vito foge da sua cidade na Sicília e vai para a América. Vito luta para manter sua família. Ele mata Black Hand Fanucci, que exigia dos comerciantes uma parte dos seus ganhos. Com a morte de Fanucci, o poderio de Vito cresce, mas sua família é o que mais importa para ele. Agora baseado no Lago Tahoe, Michael planeja fazer incursões em Las Vegas e Havana instalando negócios ligados ao lazer, mas descobre que aliados como Hyman Roth estão tentando matá-lo.\"},\n",
        "   {\"nome\": \"Os Condenados de Shawshank\",\n",
        "\n",
        "    \"ano\": \"1994\",\n",
        "\n",
        "    \"sinopse\": \"Andy Dufresne é condenado a duas prisões perpétuas consecutivas pelas mortes de sua esposa e de seu amante. Porém, só Andy sabe que ele não cometeu os crimes. No presídio, durante dezenove anos, ele faz amizade com Red, sofre as brutalidades da vida na cadeia, se adapta, ajuda os carcereiros, etc.\"}, \n",
        "\n",
        "\n",
        "]\n",
        "\n",
        "print(Top_10)"
      ],
      "metadata": {
        "colab": {
          "base_uri": "https://localhost:8080/"
        },
        "id": "97Iwr1iMcIdv",
        "outputId": "d378b8f6-6e15-43c5-f091-e4201e0d1d6a"
      },
      "execution_count": 19,
      "outputs": [
        {
          "output_type": "stream",
          "name": "stdout",
          "text": [
            "[{'nome': 'A Lista de Schindler', 'ano': '1993', 'sinopse': 'O alemão Oskar Schindler viu na mão de obra judia uma solução barata e viável para lucrar com negócios durante a guerra. Com sua forte influência dentro do partido nazista, foi fácil conseguir as autorizações e abrir uma fábrica. O que poderia parecer uma atitude de um homem não muito bondoso, transformou-se em um dos maiores casos de amor à vida da História, pois este alemão abdicou de toda sua fortuna para salvar a vida de mais de mil judeus em plena luta contra o extermínio alemão..'}, {'nome': 'O Bom, o Mau e o Vilão', 'ano': '1966', 'sinopse': 'Durante a Guerra Civil Americana, um pistoleiro misterioso e dois estrangeiros decidem juntar suas forças para encontrar um tesouro escondido. Cada um dos homens conhece apenas uma parte da localização da fortuna, o que força essa parceria. O problema é que nenhum deles tem a intenção de dividir a riqueza..'}, {'nome': 'O Senhor dos Anéis - A Irmandade do Anel', 'ano': '2001', 'sinopse': 'Em uma terra fantástica e única, um hobbit recebe de presente de seu tio um anel mágico e maligno que precisa ser destruído antes que caia nas mãos do mal. Para isso, o hobbit Frodo tem um caminho árduo pela frente, onde encontra perigo, medo e seres bizarros. Ao seu lado para o cumprimento desta jornada, ele aos poucos pode contar com outros hobbits, um elfo, um anão, dois humanos e um mago, totalizando nove seres que formam a Sociedade do Anel.'}, {'nome': 'O Senhor dos Anéis - O Regresso do Rei', 'ano': '2001', 'sinopse': 'O confronto final entre as forças do bem e do mal que lutam pelo controle do futuro da Terra Média se aproxima. Sauron planeja um grande ataque a Minas Tirith, capital de Gondor, o que faz com que Gandalf e Pippin partam para o local na intenção de ajudar a resistência. Um exército é reunido por Theoden em Rohan, em mais uma tentativa de deter as forças de Sauron. Enquanto isso, Frodo, Sam e Gollum seguem sua viagem rumo à Montanha da Perdição para destruir o anel.'}, {'nome': 'Pulp Fiction', 'ano': '1994', 'sinopse': 'Os caminhos de vários criminosos se cruzam nestas três histórias de Quentin Tarantino. Um pistoleiro se apaixona pela mulher de seu chefe, um boxeador não se sai bem em uma luta e um casal tenta executar um plano de roubo que foge do controle.'}, {'nome': 'Doze Homens em Fúria', 'ano': '1957', 'sinopse': 'Seguindo o encerramento do caso do julgamento do assassinato cometido por um adolescente, os membros do júri devem chegar a um consenso sobre qual será o veredito. Enquanto os 12 indivíduos estão fechados em uma sala para tomar uma decisão, onze deles votam pela condenação do réu, porém um deles acredita na inocência do jovem e tenta convencer os outros a mudarem seus votos, dando início a um conflito que ameaça inviabilizar o delicado processo que vai decidir o destino do acusado..'}, {'nome': 'O Cavaleiro das Trevas', 'ano': '2008', 'sinopse': 'Com a ajuda de Jim Gordon e Harvey Dent, Batman tem mantido a ordem na cidade de Gotham. Mas um jovem e anárquico criminoso conhecido como Coringa ganha força e decide instaurar um verdadeiro caos na cidade. O justiceiro será testado psicologicamente e fisicamente como nunca fora antes em um confronto bastante pessoal. Cabe a Batman encontrar uma maneira de deter o sádico vilão antes que mais vidas sejam perdidas.'}, {'nome': 'O Padrinho', 'ano': '1972', 'sinopse': 'Uma família mafiosa luta para estabelecer sua supremacia nos Estados Unidos depois da Segunda Guerra Mundial. Uma tentativa de assassinato deixa o chefão Vito Corleone incapacitado e força os filhos Michael e Sonny a assumir os negócios.'}, {'nome': 'O Padrinho: Parte II', 'ano': '1974', 'sinopse': 'Após a máfia matar sua família, o jovem Vito foge da sua cidade na Sicília e vai para a América. Vito luta para manter sua família. Ele mata Black Hand Fanucci, que exigia dos comerciantes uma parte dos seus ganhos. Com a morte de Fanucci, o poderio de Vito cresce, mas sua família é o que mais importa para ele. Agora baseado no Lago Tahoe, Michael planeja fazer incursões em Las Vegas e Havana instalando negócios ligados ao lazer, mas descobre que aliados como Hyman Roth estão tentando matá-lo.'}, {'nome': 'Os Condenados de Shawshank', 'ano': '1994', 'sinopse': 'Andy Dufresne é condenado a duas prisões perpétuas consecutivas pelas mortes de sua esposa e de seu amante. Porém, só Andy sabe que ele não cometeu os crimes. No presídio, durante dezenove anos, ele faz amizade com Red, sofre as brutalidades da vida na cadeia, se adapta, ajuda os carcereiros, etc.'}]\n"
          ]
        }
      ]
    }
  ]
}